{
  "nbformat": 4,
  "nbformat_minor": 0,
  "metadata": {
    "colab": {
      "provenance": [],
      "authorship_tag": "ABX9TyPSK1GhMaNPL05/K/Yp33GS",
      "include_colab_link": true
    },
    "kernelspec": {
      "name": "python3",
      "display_name": "Python 3"
    },
    "language_info": {
      "name": "python"
    }
  },
  "cells": [
    {
      "cell_type": "markdown",
      "metadata": {
        "id": "view-in-github",
        "colab_type": "text"
      },
      "source": [
        "<a href=\"https://colab.research.google.com/github/uceku95/Voice-recognition/blob/main/Voice_recognition.ipynb\" target=\"_parent\"><img src=\"https://colab.research.google.com/assets/colab-badge.svg\" alt=\"Open In Colab\"/></a>"
      ]
    },
    {
      "cell_type": "code",
      "execution_count": 1,
      "metadata": {
        "id": "phh-QFha993m"
      },
      "outputs": [],
      "source": [
        "import numpy as np\n",
        "import pandas as pd\n",
        "import matplotlib.pyplot as plt\n",
        "from sklearn.model_selection import train_test_split\n",
        "from sklearn.linear_model import LogisticRegression\n",
        "from sklearn.tree import DecisionTreeClassifier\n",
        "from sklearn.ensemble import RandomForestClassifier\n",
        "from sklearn.svm import SVC\n",
        "from sklearn.neighbors import KNeighborsClassifier\n",
        "from sklearn.metrics import confusion_matrix, classification_report, accuracy_score, r2_score\n"
      ]
    },
    {
      "cell_type": "code",
      "source": [
        "df = pd.read_csv('voice.csv')"
      ],
      "metadata": {
        "id": "rEXeoFpa-DKQ"
      },
      "execution_count": 2,
      "outputs": []
    },
    {
      "cell_type": "code",
      "source": [
        "df.isnull().sum()\n",
        "df.shape"
      ],
      "metadata": {
        "colab": {
          "base_uri": "https://localhost:8080/"
        },
        "id": "fvXSB9_8-P8B",
        "outputId": "c5a6b73a-1dfc-44e6-96fc-3ac7332e0880"
      },
      "execution_count": 3,
      "outputs": [
        {
          "output_type": "execute_result",
          "data": {
            "text/plain": [
              "(3168, 21)"
            ]
          },
          "metadata": {},
          "execution_count": 3
        }
      ]
    },
    {
      "cell_type": "code",
      "source": [
        "l1 = ['Male', 'Female']\n",
        "df['label'].value_counts()\n",
        "l2 = [1584, 1584]\n",
        "plt.pie(l2, labels = l1, autopct = '%0.2f%%')\n"
      ],
      "metadata": {
        "colab": {
          "base_uri": "https://localhost:8080/",
          "height": 352
        },
        "id": "T77G1saQ-TYL",
        "outputId": "33f8926c-814d-4cf4-9510-5a0470b66fea"
      },
      "execution_count": 4,
      "outputs": [
        {
          "output_type": "execute_result",
          "data": {
            "text/plain": [
              "([<matplotlib.patches.Wedge at 0x7fe7c5a850d0>,\n",
              "  <matplotlib.patches.Wedge at 0x7fe7c5a85580>],\n",
              " [Text(6.735557395310444e-17, 1.1, 'Male'),\n",
              "  Text(-2.0206672185931328e-16, -1.1, 'Female')],\n",
              " [Text(3.6739403974420595e-17, 0.6, '50.00%'),\n",
              "  Text(-1.1021821192326178e-16, -0.6, '50.00%')])"
            ]
          },
          "metadata": {},
          "execution_count": 4
        },
        {
          "output_type": "display_data",
          "data": {
            "text/plain": [
              "<Figure size 432x288 with 1 Axes>"
            ],
            "image/png": "[encoded data removed]"
          },
          "metadata": {}
        }
      ]
    },
    {
      "cell_type": "code",
      "source": [
        "x = df.iloc[:,:-1]\n",
        "y = df.iloc[:,-1]\n",
        "x_train, x_test, y_train, y_test = train_test_split(x, y, test_size = 0.20)"
      ],
      "metadata": {
        "id": "uUYCPn9E-Wm_"
      },
      "execution_count": 5,
      "outputs": []
    },
    {
      "cell_type": "code",
      "source": [
        "m1 = DecisionTreeClassifier() \n",
        "m1.fit(x_train, y_train)\n",
        "print('Train score ', m1.score(x_train, y_train))\n",
        "print('Test score ', m1.score(x_test, y_test))\n",
        "ypred_m1 = m1.predict(x_test)\n",
        "#gen_cls_metrics(y_test, ypred_m1)"
      ],
      "metadata": {
        "colab": {
          "base_uri": "https://localhost:8080/"
        },
        "id": "wmiRfsvX-cLp",
        "outputId": "d5bfdb38-e0ac-468b-94a6-40f2582f510c"
      },
      "execution_count": 6,
      "outputs": [
        {
          "output_type": "stream",
          "name": "stdout",
          "text": [
            "Train score  1.0\n",
            "Test score  0.9495268138801262\n"
          ]
        }
      ]
    },
    {
      "cell_type": "code",
      "source": [
        "m2 =RandomForestClassifier(n_estimators =  80, criterion = 'entropy', max_depth = 10, min_samples_split = 15)\n",
        "m2.fit(x_train, y_train)\n",
        "print('Train score ', m2.score(x_train, y_train))\n",
        "print('Test score ', m2.score(x_test, y_test))\n",
        "ypred_m2 = m2.predict(x_test)\n",
        "#gen_cls_metrics(y_test, ypred_m2)"
      ],
      "metadata": {
        "colab": {
          "base_uri": "https://localhost:8080/"
        },
        "id": "tHFoRXjP-e_U",
        "outputId": "1a09aeb3-ef02-4873-cd3f-6d45fa822b85"
      },
      "execution_count": 7,
      "outputs": [
        {
          "output_type": "stream",
          "name": "stdout",
          "text": [
            "Train score  0.9940805051302289\n",
            "Test score  0.9763406940063092\n"
          ]
        }
      ]
    },
    {
      "cell_type": "code",
      "source": [
        "m3 = KNeighborsClassifier()\n",
        "m3.fit(x_train, y_train)\n",
        "print('Train score ', m3.score(x_train, y_train))\n",
        "print('Test score ', m3.score(x_test, y_test))\n",
        "ypred_m3 = m3.predict(x_test)\n",
        "#gen_cls_metrics(y_test, ypred_m2)"
      ],
      "metadata": {
        "colab": {
          "base_uri": "https://localhost:8080/"
        },
        "id": "2wegcjmu-iV5",
        "outputId": "7a75f12d-afef-4b71-f4c5-288b0d110764"
      },
      "execution_count": 8,
      "outputs": [
        {
          "output_type": "stream",
          "name": "stdout",
          "text": [
            "Train score  0.8093922651933702\n",
            "Test score  0.6845425867507886\n"
          ]
        }
      ]
    },
    {
      "cell_type": "code",
      "source": [
        "m4 = LogisticRegression(max_iter = 10000)\n",
        "m4.fit(x_train, y_train)\n",
        "print('Train score ',m4.score(x_train, y_train))\n",
        "print('Test score ', m4.score(x_test, y_test))\n",
        "ypred_m4 = m4.predict(x_test)\n",
        "#gen_cls_metrics(y_test, ypred_m4)"
      ],
      "metadata": {
        "colab": {
          "base_uri": "https://localhost:8080/"
        },
        "id": "BwlA8Zey-kE_",
        "outputId": "fcc6205b-ed35-432c-c608-7e224603f294"
      },
      "execution_count": 9,
      "outputs": [
        {
          "output_type": "stream",
          "name": "stdout",
          "text": [
            "Train score  0.9084451460142068\n",
            "Test score  0.9053627760252366\n"
          ]
        }
      ]
    },
    {
      "cell_type": "code",
      "source": [
        "m5 = SVC(kernel = 'linear', C = 1)\n",
        "m5.fit(x_train, y_train)\n",
        "print('Training score', m5.score(x_train, y_train))\n",
        "print('Testing score ', m5.score(x_test, y_test))\n",
        "ypred_m5 = m5.predict(x_test)\n",
        "#gen_cls_metrics(y_test, ypred_m5)"
      ],
      "metadata": {
        "colab": {
          "base_uri": "https://localhost:8080/"
        },
        "id": "LX3361Gy-mj7",
        "outputId": "c921c4d8-1e34-4339-fe32-a6f90b1fdf1a"
      },
      "execution_count": 10,
      "outputs": [
        {
          "output_type": "stream",
          "name": "stdout",
          "text": [
            "Training score 0.9226519337016574\n",
            "Testing score  0.9053627760252366\n"
          ]
        }
      ]
    }
  ]
}